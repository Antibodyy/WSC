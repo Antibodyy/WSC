{
  "metadata": {
    "language_info": {
      "codemirror_mode": {
        "name": "python",
        "version": 3
      },
      "file_extension": ".py",
      "mimetype": "text/x-python",
      "name": "python",
      "nbconvert_exporter": "python",
      "pygments_lexer": "ipython3",
      "version": "3.8"
    },
    "kernelspec": {
      "name": "python",
      "display_name": "Python (Pyodide)",
      "language": "python"
    }
  },
  "nbformat_minor": 4,
  "nbformat": 4,
  "cells": [
    {
      "cell_type": "code",
      "source": "n = [10,20,400,10000,100000]\nfor i in n:\n    expProf = i*0.5\n    expLoss = i*0.5*0.5\n    var = i*0.5*0.5\n    print(\"The expected amount of money is = \",expProf-expLoss)\n    print(\"The variance for the trial is = \",var)\n\n#Binomial Distribution, hence Mean = np and Variance = npq.",
      "metadata": {
        "trusted": true
      },
      "execution_count": 2,
      "outputs": [
        {
          "name": "stdout",
          "text": "The expected amount of money is =  2.5\nThe variance for the trial is =  2.5\nThe expected amount of money is =  5.0\nThe variance for the trial is =  5.0\nThe expected amount of money is =  100.0\nThe variance for the trial is =  100.0\nThe expected amount of money is =  2500.0\nThe variance for the trial is =  2500.0\nThe expected amount of money is =  25000.0\nThe variance for the trial is =  25000.0\n",
          "output_type": "stream"
        }
      ]
    },
    {
      "cell_type": "code",
      "source": "",
      "metadata": {},
      "execution_count": null,
      "outputs": []
    }
  ]
}